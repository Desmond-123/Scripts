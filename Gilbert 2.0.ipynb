{
 "cells": [
  {
   "cell_type": "code",
   "execution_count": 20,
   "id": "e50ccd2e",
   "metadata": {},
   "outputs": [],
   "source": [
    "import math"
   ]
  },
  {
   "cell_type": "code",
   "execution_count": 25,
   "id": "07c23609",
   "metadata": {},
   "outputs": [
    {
     "name": "stdout",
     "output_type": "stream",
     "text": [
      "x \t\t y \t\t exact\n",
      "0.000000 \t 1.000000 \t 1.000000 \t\n",
      "0.025000 \t 1.000000 \t 1.051271 \t\n",
      "0.050000 \t 1.001250 \t 1.105171 \t\n",
      "0.075000 \t 1.003750 \t 1.161834 \t\n",
      "0.100000 \t 1.007500 \t 1.221403 \t\n",
      "0.125000 \t 1.012500 \t 1.284025 \t\n",
      "0.150000 \t 1.018750 \t 1.349859 \t\n",
      "0.175000 \t 1.026250 \t 1.419068 \t\n",
      "0.200000 \t 1.035000 \t 1.491825 \t\n",
      "0.225000 \t 1.045000 \t 1.568312 \t\n",
      "0.250000 \t 1.056250 \t 1.648721 \t\n",
      "0.275000 \t 1.068750 \t 1.733253 \t\n",
      "0.300000 \t 1.082500 \t 1.822119 \t\n",
      "0.325000 \t 1.097500 \t 1.915541 \t\n",
      "0.350000 \t 1.113750 \t 2.013753 \t\n",
      "0.375000 \t 1.131250 \t 2.117000 \t\n",
      "0.400000 \t 1.150000 \t 2.225541 \t\n",
      "0.425000 \t 1.170000 \t 2.339647 \t\n",
      "0.450000 \t 1.191250 \t 2.459603 \t\n",
      "0.475000 \t 1.213750 \t 2.585710 \t\n",
      "0.500000 \t 1.237500 \t 2.718282 \t\n",
      "0.525000 \t 1.262500 \t 2.857651 \t\n",
      "0.550000 \t 1.288750 \t 3.004166 \t\n",
      "0.575000 \t 1.316250 \t 3.158193 \t\n",
      "0.600000 \t 1.345000 \t 3.320117 \t\n",
      "0.625000 \t 1.375000 \t 3.490343 \t\n",
      "0.650000 \t 1.406250 \t 3.669297 \t\n",
      "0.675000 \t 1.438750 \t 3.857426 \t\n",
      "0.700000 \t 1.472500 \t 4.055200 \t\n",
      "0.725000 \t 1.507500 \t 4.263115 \t\n",
      "0.750000 \t 1.543750 \t 4.481689 \t\n",
      "0.775000 \t 1.581250 \t 4.711470 \t\n",
      "0.800000 \t 1.620000 \t 4.953032 \t\n",
      "0.825000 \t 1.660000 \t 5.206980 \t\n",
      "0.850000 \t 1.701250 \t 5.473947 \t\n",
      "0.875000 \t 1.743750 \t 5.754603 \t\n",
      "0.900000 \t 1.787500 \t 6.049647 \t\n",
      "0.925000 \t 1.832500 \t 6.359820 \t\n",
      "0.950000 \t 1.878750 \t 6.685894 \t\n",
      "0.975000 \t 1.926250 \t 7.028688 \t\n",
      "1.000000 \t 1.975000 \t 7.389056 \t\n"
     ]
    }
   ],
   "source": [
    "f=lambda x: math.exp(x*2)\n",
    "dy= lambda x,y: 2*x\n",
    "\n",
    "\n",
    "#intialization\n",
    "xi=0; xf=1; h=0.025\n",
    "x=0; y=1\n",
    "\n",
    "#no of steps\n",
    "n=int((xf-xi)/h)\n",
    "ef=f(x)\n",
    "print('x \\t\\t y \\t\\t exact');print('%f \\t %f \\t %f \\t'% (x,y,ef))\n",
    "\n",
    "# formula\n",
    "for i in range(n):\n",
    "    y = y + h*dy(x,y)\n",
    "    x = x + h\n",
    "    ef = f(x)\n",
    "    print('%f \\t %f \\t %f \\t'% (x,y,ef))"
   ]
  },
  {
   "cell_type": "code",
   "execution_count": 24,
   "id": "c55ad6bf",
   "metadata": {},
   "outputs": [
    {
     "name": "stdout",
     "output_type": "stream",
     "text": [
      "x \t\t y \t\t exact\n",
      "0.000000 \t 1.000000 \t 1.000000 \t\n",
      "0.100000 \t 0.800000 \t 0.820778 \t\n",
      "0.200000 \t 0.640082 \t 0.677023 \t\n",
      "0.300000 \t 0.512602 \t 0.561160 \t\n",
      "0.400000 \t 0.411563 \t 0.467302 \t\n",
      "0.500000 \t 0.332126 \t 0.390872 \t\n",
      "0.600000 \t 0.270300 \t 0.328302 \t\n",
      "0.700000 \t 0.222745 \t 0.276805 \t\n",
      "0.800000 \t 0.186655 \t 0.234200 \t\n",
      "0.900000 \t 0.159661 \t 0.198772 \t\n",
      "1.000000 \t 0.139779 \t 0.169169 \t\n"
     ]
    }
   ],
   "source": [
    "dy = lambda x,y: ((x**3)*math.exp(-2*x)-2*y)\n",
    "ex = lambda x: (math.exp(-2*x))/4*((x**2)+4)\n",
    "\n",
    "#intialization\n",
    "xi=0; xf=1; h=0.1\n",
    "x=0; y=1\n",
    "\n",
    "#no of steps\n",
    "n=int((xf-xi)/h)\n",
    "exf=ex(x)\n",
    "print('x \\t\\t y \\t\\t exact');print('%f \\t %f \\t %f \\t'% (x,y,exf))\n",
    "\n",
    "# formula\n",
    "for i in range(n):\n",
    "    y = y + h*dy(x,y)\n",
    "    x = x + h\n",
    "    exf = ex(x)\n",
    "    print('%f \\t %f \\t %f \\t'% (x,y,exf))"
   ]
  },
  {
   "cell_type": "code",
   "execution_count": null,
   "id": "3f0f05c7",
   "metadata": {},
   "outputs": [],
   "source": []
  }
 ],
 "metadata": {
  "kernelspec": {
   "display_name": "Python 3 (ipykernel)",
   "language": "python",
   "name": "python3"
  },
  "language_info": {
   "codemirror_mode": {
    "name": "ipython",
    "version": 3
   },
   "file_extension": ".py",
   "mimetype": "text/x-python",
   "name": "python",
   "nbconvert_exporter": "python",
   "pygments_lexer": "ipython3",
   "version": "3.9.12"
  }
 },
 "nbformat": 4,
 "nbformat_minor": 5
}
